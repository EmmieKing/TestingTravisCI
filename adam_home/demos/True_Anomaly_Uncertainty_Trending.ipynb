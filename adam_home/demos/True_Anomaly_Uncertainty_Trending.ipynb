{
 "cells": [
  {
   "cell_type": "code",
   "execution_count": 1,
   "metadata": {},
   "outputs": [],
   "source": [
    " ''' True Anomaly Uncertainty Trending '''\n",
    "# --------------------------------------------------------------\n",
    "# HEADER PATH/FILE/PACKAGE SETUP\n",
    "# --------------------------------------------------------------\n",
    "import sys, os, math\n",
    "import numpy as np\n",
    "from os.path import expanduser\n",
    "# path to module:\n",
    "sys.path.append(expanduser(\"~\") + \"/adam_home/SEE_functions/\")\n",
    "\n",
    "#sys.path.append(expanduser(\"~\") + \"/adam_home\")\n",
    "#from adam import adam_config\n",
    "#sys.path.append(adam_config.setPaths.SEE_functions_path)\n",
    "\n",
    "\n",
    "from Orbit_Period_Uncertainty_Trending import CartCovSymmetricFromCartCovSTK\n",
    "from Orbit_Period_Uncertainty_Trending import ComputePeriodCovFromCartCov \n",
    "#from Orbit_Period_Uncertainty_Trending import dummy_ExtractPosVelCov \n",
    "from Orbit_Period_Uncertainty_Trending import odtk_ExtractPosVelCov "
   ]
  },
  {
   "cell_type": "code",
   "execution_count": 2,
   "metadata": {},
   "outputs": [],
   "source": [
    "# --------------------------------------------------------------\n",
    "# USER INPUT AND CONSTANTS - using ODTK.e file format\n",
    "# assuming .e file set 1:1 for time - time is not duplicated as original file is\n",
    "# --------------------------------------------------------------\n",
    "#ephem_file = adam_config.setPaths.ephem_path + '/modified_Sat_KPLO_PhasingOrbit_Fil_20200710_000000.e'\n",
    "ephem_file = expanduser(\"~\") + '/adam_home/data/ephem' + '/modified_Sat_KPLO_PhasingOrbit_Fil_20200710_000000.e'\n",
    "# User sets the reference time for analysis (sec) as a string to be read from the ephemeris file\n",
    "#ref_time = '167860'\n",
    "#ref_time = '5606'\n",
    "ref_time = '196'\n",
    "# gravitational param (m^3/sec^2)\n",
    "Gm = 398600.5*1000000000 #Earth\n",
    "\n",
    "values_stk = odtk_ExtractPosVelCov(ephem_file, ref_time)\n",
    "\n",
    "TimePosVel = (\n",
    "                [values_stk[0]],\n",
    "                [values_stk[1], values_stk[2], values_stk[3]],\n",
    "                [values_stk[4], values_stk[5], values_stk[6]]\n",
    "            )\n",
    "\n",
    "\n",
    "#CartCov_6x6 = CartCovSymmetricFromCartCovSTK(values_stk)\n"
   ]
  },
  {
   "cell_type": "code",
   "execution_count": 3,
   "metadata": {},
   "outputs": [],
   "source": [
    "from True_Anomaly_Uncertainty_Trending import ComputeEccentricityFromCartState\n",
    "from True_Anomaly_Uncertainty_Trending import ComputeTrueAnomaly\n",
    "from True_Anomaly_Uncertainty_Trending import VectorNorm"
   ]
  },
  {
   "cell_type": "code",
   "execution_count": 4,
   "metadata": {},
   "outputs": [
    {
     "name": "stdout",
     "output_type": "stream",
     "text": [
      "trueAnomaly (deg):  357.1219523821062\n"
     ]
    }
   ],
   "source": [
    "#posTest = ([6524.834/6378.1370,6862.875/6378.1370,6448.296/6378.1370])\n",
    "#velTest = ([4.901327/6378.1370/806.8, 5.533756/6378.1370/806.8, -1.976341/6378.1370/806.8])\n",
    "#ComputeEccentricityFromCartState(TimePosVel[1],TimePosVel[2],Gm)\n",
    "e_vec = ComputeEccentricityFromCartState(TimePosVel[1],  TimePosVel[2], Gm)\n",
    "#print('e_vec:', e_vec)\n",
    "eMag = VectorNorm(e_vec)\n",
    "#print('eMag: ', eMag)\n",
    "\n",
    "trueAnomaly = ComputeTrueAnomaly(e_vec, eMag, TimePosVel[1], TimePosVel[2])\n",
    "print('trueAnomaly (deg): ', trueAnomaly )\n",
    "#TBD\n",
    "#TrueAnomalyCov = ComputeTrueAnomalyCovFromCartCov(TimePosVel[1], TimePosVel[2], CartCov_6x6, Gm)\n",
    "#print('True Anomaly Uncertainty 1-sigma StdDev (sec): ', math.sqrt(TrueAnomalyCov))"
   ]
  },
  {
   "cell_type": "code",
   "execution_count": null,
   "metadata": {},
   "outputs": [],
   "source": []
  },
  {
   "cell_type": "code",
   "execution_count": null,
   "metadata": {},
   "outputs": [],
   "source": []
  }
 ],
 "metadata": {
  "kernelspec": {
   "display_name": "Python 3",
   "language": "python",
   "name": "python3"
  },
  "language_info": {
   "codemirror_mode": {
    "name": "ipython",
    "version": 3
   },
   "file_extension": ".py",
   "mimetype": "text/x-python",
   "name": "python",
   "nbconvert_exporter": "python",
   "pygments_lexer": "ipython3",
   "version": "3.6.4"
  }
 },
 "nbformat": 4,
 "nbformat_minor": 2
}
