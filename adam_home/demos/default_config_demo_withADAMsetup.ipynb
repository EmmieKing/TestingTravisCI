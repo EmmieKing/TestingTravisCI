{
 "cells": [
  {
   "cell_type": "code",
   "execution_count": 1,
   "metadata": {},
   "outputs": [
    {
     "name": "stdout",
     "output_type": "stream",
     "text": [
      "Changing adam home path to =  C:\\Users\\macuser/adam_home\n"
     ]
    }
   ],
   "source": [
    "import sys\n",
    "from os.path import expanduser\n",
    "\n",
    "adam_home_defined = expanduser(\"~\") + \"/adam_home\" # / syntax works for Windows, Mac, and Linux\n",
    "sys.path.append(adam_home_defined) \n",
    "#import adam modules after setting adam directory path \n",
    "from adam import adam_config\n",
    "# Set up adam paths\n",
    "ADAMpaths = adam_config.setPaths.initPaths(adam_home_defined)\n",
    "\n",
    "#import adam\n",
    "#from adam import adam_config\n",
    "from adam import Auth\n",
    "from adam import ConfigManager\n",
    "from adam import RestRequests\n",
    "\n",
    "import webbrowser\n",
    "import urllib\n",
    "import os\n",
    "from shutil import copyfile\n"
   ]
  },
  {
   "cell_type": "code",
   "execution_count": 2,
   "metadata": {},
   "outputs": [],
   "source": [
    "#Attempts to read config that is already set up from an adam_config.json file in adam_home/config directory.\n",
    "#Feel free to point it somewhere else. If it fails to read that file, it will copy the template from adam.\n",
    "config_file  = ADAMpaths[3] #adam_config.setPaths.env_config_path\n",
    "template_file = ADAMpaths[2] # adam_config.setPaths.env_template_path\n",
    "\n",
    "try:\n",
    "    f = open(config_file)\n",
    "    f.close()\n",
    "except:\n",
    "    copyfile(template_file, config_file)\n",
    "\n",
    "config_manager = ConfigManager(config_file)\n",
    "config = config_manager.get_config()"
   ]
  },
  {
   "cell_type": "code",
   "execution_count": 3,
   "metadata": {},
   "outputs": [],
   "source": [
    "url = config.get_url()\n",
    "rest = RestRequests(url)\n",
    "auth = Auth(rest)"
   ]
  },
  {
   "cell_type": "code",
   "execution_count": 4,
   "metadata": {},
   "outputs": [
    {
     "name": "stdout",
     "output_type": "stream",
     "text": [
      "Welcome, emmie.king@gmail.com\n"
     ]
    }
   ],
   "source": [
    "token = config.get_token()\n",
    "\n",
    "try:\n",
    "    auth.authenticate(token)\n",
    "    if auth.get_logged_in():\n",
    "        print('Welcome, ' + auth.get_user())\n",
    "    else:\n",
    "        input(\"A website will pop up and you will be given options to log in to \"\n",
    "              \"retrieve a token. Please copy the token and return here. Press enter to show popup and continue...\")\n",
    "        o = urllib.parse.urlparse(url)\n",
    "        token_url = \"%s://%s/%s\" % (o.scheme, o.netloc, 'token.html')  # Yes, seriously. This is how it's done.\n",
    "        webbrowser.open(token_url)\n",
    "        \n",
    "        token = input(\"Token: \")\n",
    "        print('\\n')\n",
    "        if auth.authenticate(token):\n",
    "            config.set_token(auth.get_token())\n",
    "            config_manager.to_file(config_file)\n",
    "            print('Updated config file with token for ' + url)\n",
    "            print('Welcome, ' + auth.get_user())\n",
    "        else:\n",
    "            print('Could not authenticate user.')\n",
    "except RuntimeError as e:\n",
    "    print('Encountered server error while attempting to authenticate: ' + str(e))"
   ]
  },
  {
   "cell_type": "code",
   "execution_count": null,
   "metadata": {},
   "outputs": [],
   "source": [
    "#workspace = input('Workspace project UUID: ')\n",
    "#config.set_workspace(workspace)\n",
    "#config_manager.to_file(config_file)"
   ]
  }
 ],
 "metadata": {
  "kernelspec": {
   "display_name": "Python 3",
   "language": "python",
   "name": "python3"
  },
  "language_info": {
   "codemirror_mode": {
    "name": "ipython",
    "version": 3
   },
   "file_extension": ".py",
   "mimetype": "text/x-python",
   "name": "python",
   "nbconvert_exporter": "python",
   "pygments_lexer": "ipython3",
   "version": "3.6.4"
  }
 },
 "nbformat": 4,
 "nbformat_minor": 2
}
