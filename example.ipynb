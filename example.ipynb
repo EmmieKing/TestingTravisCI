2 + 2
import numpy
assert(numpy.__version__ == '1.13.1')
# change this to fale if you want to test exceptions
assert True
